{
 "cells": [
  {
   "cell_type": "markdown",
   "metadata": {},
   "source": [
    "Notes:\n"
   ]
  },
  {
   "cell_type": "markdown",
   "metadata": {},
   "source": [
    "Strings:\n"
   ]
  },
  {
   "cell_type": "code",
   "execution_count": 17,
   "metadata": {},
   "outputs": [
    {
     "name": "stdout",
     "output_type": "stream",
     "text": [
      "e\n"
     ]
    }
   ],
   "source": [
    "username = 'jeevan kumar katiyar'\n",
    "x=len(username)\n",
    "print (username[2])\n"
   ]
  },
  {
   "cell_type": "markdown",
   "metadata": {},
   "source": [
    "List:\n"
   ]
  },
  {
   "cell_type": "code",
   "execution_count": 20,
   "metadata": {},
   "outputs": [
    {
     "data": {
      "text/plain": [
       "3.14"
      ]
     },
     "execution_count": 20,
     "metadata": {},
     "output_type": "execute_result"
    }
   ],
   "source": [
    "mylist = [123,'chai',True, 3.14]\n",
    "len(mylist)\n",
    "mylist[2]\n",
    "mylist[-1]"
   ]
  },
  {
   "cell_type": "markdown",
   "metadata": {},
   "source": [
    "dictionary"
   ]
  },
  {
   "cell_type": "code",
   "execution_count": 28,
   "metadata": {},
   "outputs": [
    {
     "name": "stdout",
     "output_type": "stream",
     "text": [
      "{'Superheroes': 'nagraj'}\n"
     ]
    }
   ],
   "source": [
    "myDictionary ={'one':'lemon','two':'ginger tea','three':'mint'}\n",
    "myDictionary['one']\n",
    "\n",
    "myD = {'Superheroes':'saktiman','Superheroes':'nagraj'}\n",
    "print(myD)\n"
   ]
  },
  {
   "cell_type": "markdown",
   "metadata": {},
   "source": [
    "Tuples\n"
   ]
  },
  {
   "cell_type": "code",
   "execution_count": 22,
   "metadata": {},
   "outputs": [
    {
     "data": {
      "text/plain": [
       "1"
      ]
     },
     "execution_count": 22,
     "metadata": {},
     "output_type": "execute_result"
    }
   ],
   "source": [
    "myTup = (1,2,3,5)\n",
    "myTup[0]\n"
   ]
  },
  {
   "cell_type": "markdown",
   "metadata": {},
   "source": [
    "Type Conversion."
   ]
  },
  {
   "cell_type": "code",
   "execution_count": 34,
   "metadata": {},
   "outputs": [
    {
     "name": "stdout",
     "output_type": "stream",
     "text": [
      "65\n",
      "<class 'int'>\n"
     ]
    }
   ],
   "source": [
    "name = 'A'\n",
    "d = ord(name)\n",
    "\n",
    "print(d)\n",
    "print(type(d))"
   ]
  },
  {
   "cell_type": "markdown",
   "metadata": {},
   "source": [
    "Internal working of python.\n",
    "- pyhton's garbage collector does not immediatley collect STIRNG and INT ; therefore late garbage collection\n"
   ]
  },
  {
   "cell_type": "code",
   "execution_count": 36,
   "metadata": {},
   "outputs": [
    {
     "name": "stdout",
     "output_type": "stream",
     "text": [
      "<class 'bool'>\n"
     ]
    }
   ],
   "source": [
    "string = True\n",
    "\n",
    "print(type(string))"
   ]
  },
  {
   "cell_type": "markdown",
   "metadata": {},
   "source": [
    "the types of the object/ data is always in the object not in the name;\n",
    "in the above example the datatype of the string is detrmined by the value of the object (True)."
   ]
  },
  {
   "cell_type": "markdown",
   "metadata": {},
   "source": [
    "Understanding of Mutable and Immutable Difference in list Memory refrences\n"
   ]
  },
  {
   "cell_type": "code",
   "execution_count": 44,
   "metadata": {},
   "outputs": [
    {
     "name": "stdout",
     "output_type": "stream",
     "text": [
      "[1, 2, 3]\n",
      "[1, 2, 3]\n",
      "[0, 2, 3]\n",
      "[0, 2, 3]\n"
     ]
    }
   ],
   "source": [
    "l1 =[1,2,3]\n",
    "l2 =l1\n",
    "# here the refrence is same therefore both l1,l2 values are [1,2,3]\n",
    "print(l1)\n",
    "print(l2)\n",
    "\n",
    "l1[0]=0 # here the refernce did not change there changing the value of l1 made changes the l2\n",
    "print(l1)\n",
    "print(l2)"
   ]
  },
  {
   "cell_type": "code",
   "execution_count": 47,
   "metadata": {},
   "outputs": [
    {
     "name": "stdout",
     "output_type": "stream",
     "text": [
      "[1, 2, 3]\n",
      "[1, 2, 3]\n",
      "[100, 2, 3] [1, 2, 3]\n"
     ]
    }
   ],
   "source": [
    "c1 = [1,2,3]\n",
    "c2 =c1\n",
    "print(c1)\n",
    "print(c2)\n",
    "c1 =[1,2,3] # here a new refrence was created for c1, therefore the the refence of c1 changed and the refernce of c2 remain same.\n",
    "c1[0] =100\n",
    "print(c1,c2)"
   ]
  },
  {
   "cell_type": "code",
   "execution_count": 69,
   "metadata": {},
   "outputs": [
    {
     "name": "stdout",
     "output_type": "stream",
     "text": [
      "[1, 2, 3]\n",
      "[1, 2, 3]\n",
      "['a', 2, 3]\n",
      "[1, 2, 3]\n"
     ]
    }
   ],
   "source": [
    "h1 =[1,2,3]\n",
    "h2 =h1[:]\n",
    "print(h1)\n",
    "print(h2)\n",
    "h1[0] ='a'\n",
    "print(h1)\n",
    "print(h2)"
   ]
  },
  {
   "cell_type": "markdown",
   "metadata": {},
   "source": [
    "Note:\n",
    "when doing slicing in memory copies are created."
   ]
  },
  {
   "cell_type": "markdown",
   "metadata": {},
   "source": [
    "NUMBERS:\n",
    "- is not a single object but a group of object\n"
   ]
  },
  {
   "cell_type": "markdown",
   "metadata": {},
   "source": [
    ">>> repr('jeevan')\n",
    "\"'jeevan'\"\n",
    ">>> str('jeevan')\n",
    "'jeevan'\n",
    ">>> print('jeevan')\n",
    "jeevan"
   ]
  },
  {
   "cell_type": "code",
   "execution_count": 98,
   "metadata": {},
   "outputs": [
    {
     "data": {
      "text/plain": [
       "'lemon'"
      ]
     },
     "execution_count": 98,
     "metadata": {},
     "output_type": "execute_result"
    }
   ],
   "source": [
    "import random\n",
    "random.randint(1,100)\n",
    "\n",
    "l1 = ['lemon','mint','ginger']\n",
    "random.choice(l1)\n",
    "\n",
    "# random.shuffle(l1)\n",
    "# print(l1)"
   ]
  },
  {
   "cell_type": "code",
   "execution_count": 101,
   "metadata": {},
   "outputs": [],
   "source": [
    "from decimal import Decimal\n",
    "# decimal context manager - to read\n"
   ]
  },
  {
   "cell_type": "markdown",
   "metadata": {},
   "source": [
    "Sets:\n",
    "NOTE: empty sets are denoted by set() not by {}\n",
    "empty {} == dictionary\n"
   ]
  },
  {
   "cell_type": "code",
   "execution_count": 102,
   "metadata": {},
   "outputs": [
    {
     "data": {
      "text/plain": [
       "{1, 2, 5}"
      ]
     },
     "execution_count": 102,
     "metadata": {},
     "output_type": "execute_result"
    }
   ],
   "source": [
    "setone = { 1,2,3,4,5}\n",
    "setone & {1,2,5}\n",
    "\n"
   ]
  },
  {
   "cell_type": "markdown",
   "metadata": {},
   "source": [
    "Strings in Python\n"
   ]
  },
  {
   "cell_type": "code",
   "execution_count": 106,
   "metadata": {},
   "outputs": [
    {
     "name": "stdout",
     "output_type": "stream",
     "text": [
      "J\n",
      "Jeevan\n"
     ]
    }
   ],
   "source": [
    "name = \"Jeevan kumar\"\n",
    "Fchar = name[0]\n",
    "print(Fchar)\n",
    "\n",
    "slice_name = name[0:6]\n",
    "print(slice_name)\n",
    "\n"
   ]
  },
  {
   "cell_type": "code",
   "execution_count": 139,
   "metadata": {},
   "outputs": [
    {
     "name": "stdout",
     "output_type": "stream",
     "text": [
      "0123456789\n",
      "the number is not\n"
     ]
    }
   ],
   "source": [
    "Num = \"0123456789\"\n",
    "Num[:]\n",
    "print(Num)\n",
    "Num[0:-1:3]\n",
    "\n",
    "#palindrome\n",
    "\n",
    "num = '123454321'\n",
    "num2= num[::-1]\n",
    "\n",
    "if num == num2:\n",
    "    print('the number is palindrome')\n",
    "\n",
    "else:\n",
    "    print('the number is not')\n",
    "\n"
   ]
  },
  {
   "cell_type": "markdown",
   "metadata": {},
   "source": [
    "String method"
   ]
  },
  {
   "cell_type": "code",
   "execution_count": 170,
   "metadata": {},
   "outputs": [
    {
     "name": "stdout",
     "output_type": "stream",
     "text": [
      "     JEEVAN KUMAR KATIYAR JEEVAN      \n",
      "     jeevan kumar katiyar jeevan      \n",
      "     jeevan kumar katiyar jeevan      \n",
      "jeevan kumar katiyar jeevan\n",
      "     shiv kumar katiyar shiv      \n",
      "     jeevan kumar katiyar jeevan      \n",
      "['lemon,', 'Ginger,', 'Masala', ',', 'Mint']\n",
      "['lemon', ' Ginger', '  Masala ', ' Mint']\n",
      "7\n",
      "5\n"
     ]
    }
   ],
   "source": [
    "#strip\n",
    "#upperCase\n",
    "#lowercase\n",
    "# replace\n",
    "\n",
    "name = \"     jeevan kumar katiyar jeevan      \"\n",
    "print(name.upper())\n",
    "print(name.capitalize( ))\n",
    "print(name.lower())\n",
    "print(name.strip())\n",
    "print(name.replace(\"jeevan\",\"shiv\")) # replace at all position\n",
    "print(name)\n",
    "\n",
    "#converting string to list.\n",
    "chai = \"lemon, Ginger,  Masala , Mint\"\n",
    "print(chai.split()) # splits based on space only.\n",
    "print(chai.split(\",\")) #split based on comma and space.\n",
    "\n",
    "\n",
    "chais = \"masala Chai\"\n",
    "print(chais.find(\"Chai\"))\n",
    "\n",
    "alphabet = \"abaabcdabcfrgaj\"\n",
    "print(alphabet.count('a'))\n"
   ]
  },
  {
   "cell_type": "code",
   "execution_count": 177,
   "metadata": {},
   "outputs": [
    {
     "name": "stdout",
     "output_type": "stream",
     "text": [
      " candidate name is jeevan kumar and age is 25\n",
      "35\n"
     ]
    }
   ],
   "source": [
    "#order formating\n",
    "#{} = placeholder\n",
    "\n",
    "name = \"jeevan kumar\"\n",
    "age = 25\n",
    "\n",
    "details = \" candidate name is {} and age is {}\"\n",
    "print(details.format(name,age))\n",
    "print(len(details)) # to check the length.\n"
   ]
  },
  {
   "cell_type": "code",
   "execution_count": 176,
   "metadata": {},
   "outputs": [
    {
     "name": "stdout",
     "output_type": "stream",
     "text": [
      "lemon, masala, ginger.\n"
     ]
    }
   ],
   "source": [
    "#converting list to string.\n",
    "\n",
    "chai_variety = [\"lemon\",'masala','ginger.']\n",
    "chai_variety\n",
    "\n",
    "# using join operation\n",
    "\n",
    "print(\", \".join(chai_variety))\n"
   ]
  },
  {
   "cell_type": "code",
   "execution_count": 187,
   "metadata": {},
   "outputs": [
    {
     "name": "stdout",
     "output_type": "stream",
     "text": [
      "JJJJJJ\n",
      "eeeeee\n",
      "eeeeee\n",
      "vvvvvv\n",
      "aaaaaa\n",
      "nnnnnn\n",
      "      \n"
     ]
    }
   ],
   "source": [
    "name =\"Jeevan \"\n",
    "\n",
    "for name in name:\n",
    "    print(name * 6)\n"
   ]
  },
  {
   "cell_type": "code",
   "execution_count": null,
   "metadata": {},
   "outputs": [],
   "source": []
  }
 ],
 "metadata": {
  "kernelspec": {
   "display_name": "Python 3",
   "language": "python",
   "name": "python3"
  },
  "language_info": {
   "codemirror_mode": {
    "name": "ipython",
    "version": 3
   },
   "file_extension": ".py",
   "mimetype": "text/x-python",
   "name": "python",
   "nbconvert_exporter": "python",
   "pygments_lexer": "ipython3",
   "version": "3.12.2"
  }
 },
 "nbformat": 4,
 "nbformat_minor": 2
}
