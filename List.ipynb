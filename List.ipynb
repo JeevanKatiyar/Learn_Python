{
 "cells": [
  {
   "cell_type": "markdown",
   "metadata": {},
   "source": [
    "|   |   |   |   |   |   |   |      List     |   |   |   |   |   |    |    "
   ]
  },
  {
   "cell_type": "code",
   "execution_count": 47,
   "metadata": {},
   "outputs": [
    {
     "name": "stdout",
     "output_type": "stream",
     "text": [
      "['balck', 'green', 'oolong', 'white', 'masala']\n"
     ]
    }
   ],
   "source": [
    "tea_varity = [\"balck\", \"green\",\"oolong\",\"white\",\"masala\"]\n",
    "print(tea_varity)\n",
    "\n"
   ]
  },
  {
   "cell_type": "code",
   "execution_count": 115,
   "metadata": {},
   "outputs": [
    {
     "name": "stdout",
     "output_type": "stream",
     "text": [
      "['balck', 'green', 'oolong', 'white', 'masala', 'jeevan', 'jeevan']\n",
      "yes\n"
     ]
    },
    {
     "data": {
      "text/plain": [
       "['balck', 'green', 'oolong', 'white', 'masala']"
      ]
     },
     "execution_count": 115,
     "metadata": {},
     "output_type": "execute_result"
    }
   ],
   "source": [
    "tea_varity\n",
    "\n",
    "# for tea in tea_varity:\n",
    "#     print(tea, end=\"___\")\n",
    "print(tea_varity)\n",
    "\n",
    "if \"jeevan\" in tea_varity:\n",
    "    print(\"yes\")\n",
    "else : print(\"no\")\n",
    "\n",
    "tea_varity.pop()\n",
    "tea_varity.pop()\n",
    "tea_varity\n"
   ]
  },
  {
   "cell_type": "code",
   "execution_count": 118,
   "metadata": {},
   "outputs": [
    {
     "data": {
      "text/plain": [
       "['balck', 'green', 'oolong', 'white', 'masala', 'jeevan', 'jeevan']"
      ]
     },
     "execution_count": 118,
     "metadata": {},
     "output_type": "execute_result"
    }
   ],
   "source": [
    "tea_varity\n",
    "tea_varity.append(\"jeevan\")\n",
    "tea_varity"
   ]
  },
  {
   "cell_type": "code",
   "execution_count": 140,
   "metadata": {},
   "outputs": [
    {
     "name": "stdout",
     "output_type": "stream",
     "text": [
      "['jeevan', 'shiv', 'akanksha', 'mom']\n",
      "['jeevan', 'shiv', 'akanksha']\n",
      "['jeevan', 'shiv', 'akanksha', 'mom']\n",
      "['jeevan', 'shiv', 'akanksha', 'mom', 'dad']\n",
      "['dad', 'mom', 'jeevan', 'shiv', 'akanksha']\n",
      "['dad', 'mom', 'shiv', 'akanksha']\n",
      "['dad', 'mom', 'shiv', 'akanksha', 'jeevan']\n",
      "['dad', 'mom', 'shiv', 'akanksha', 'jeevan']\n",
      "['dad', 'mom', 'shiv', 'akanksha']\n",
      "['dad', 'mom', 'shiv', 'akanksha', 'jeevan']\n",
      "['dad', 'mom', 'shiv']\n",
      "['dad', 'mom', 'shiv']\n"
     ]
    }
   ],
   "source": [
    "family = [\"jeevan\",\"shiv\",\"akanksha\",\"mom\"]\n",
    "print(family)\n",
    "\n",
    "family.pop()\n",
    "print(family)\n",
    "family.append(\"mom\")\n",
    "print(family)\n",
    "family.append(\"dad\")\n",
    "print(family)\n",
    "family.pop()\n",
    "family.pop()\n",
    "\n",
    "family.insert(0,\"dad\")\n",
    "family.insert(1, \"mom\")\n",
    "print(family)\n",
    "family.remove(\"jeevan\")\n",
    "print(family)\n",
    "family.insert(4,\"jeevan\")\n",
    "print(family)\n",
    "\n",
    "family_copy = family.copy() # here the copy of the family refrence is provided to famliy_copy  this does not change the original reference of the  family list\n",
    "family_copy.pop()\n",
    "\n",
    "print(family)\n",
    "print(family_copy)\n",
    "\n",
    "# if changed without using the copy function then both the list changes as shown below\n",
    "print(family)\n",
    "family_copy2 = family\n",
    "family_copy2.pop()\n",
    "family_copy2.pop()\n",
    "\n",
    "print(family_copy2)\n",
    "print(family)"
   ]
  },
  {
   "cell_type": "markdown",
   "metadata": {},
   "source": [
    "List Comprehension:\n"
   ]
  },
  {
   "cell_type": "markdown",
   "metadata": {},
   "source": [
    " # Can be used to print tables"
   ]
  },
  {
   "cell_type": "code",
   "execution_count": 157,
   "metadata": {},
   "outputs": [
    {
     "name": "stdout",
     "output_type": "stream",
     "text": [
      "[1, 4, 9, 16, 25, 36, 49, 64, 81, 100]\n",
      "[1, 8, 27, 64, 125, 216, 343, 512, 729, 1000]\n"
     ]
    }
   ],
   "source": [
    "sq_num = [num**2 for num in range(1,11)]\n",
    "print(sq_num)\n",
    "\n",
    "cube_num = [num**3 for num in range(1,11)]\n",
    "print(cube_num)\n",
    "\n",
    "#table fo 2\n",
    "# num = input(\"enter the number\")\n",
    "# two_table =[num*2 for num in range(1,11)]\n",
    "# two_table"
   ]
  },
  {
   "cell_type": "markdown",
   "metadata": {},
   "source": [
    "|   |   |   |   |   |   |   |   Dictionary. |   |   |   |   |   |   |"
   ]
  },
  {
   "cell_type": "code",
   "execution_count": 173,
   "metadata": {},
   "outputs": [
    {
     "name": "stdout",
     "output_type": "stream",
     "text": [
      "masala\n",
      "ginger\n",
      "green\n",
      "{'masala': 'spicy', 'ginger': 'zesty', 'green': 'fresh', 'lemon': 'citrus'}\n"
     ]
    },
    {
     "data": {
      "text/plain": [
       "{'masala': 'spicy'}"
      ]
     },
     "execution_count": 173,
     "metadata": {},
     "output_type": "execute_result"
    }
   ],
   "source": [
    "chai_types = {'masala':'spicy','ginger':'zesty','green':'healthy'}\n",
    "chai_types\n",
    "\n",
    "chai_types['masala']\n",
    "\n",
    "chai_types['green'] = 'fresh' # changing the value;\n",
    "\n",
    "chai_types\n",
    "\n",
    "# when you iterate in dictionary you get keys \n",
    "for chai in chai_types:\n",
    "    print(chai)\n",
    "\n",
    "chai_types[\"lemon\"] = \"citrus\" # adding element to dictionary by providing the KEY.\n",
    "print(chai_types)\n",
    "# removing element from dictionary \n",
    "# you have to provide key which needs to be removed\n",
    "\n",
    "chai_types.pop('lemon')\n",
    "chai_types\n",
    "\n",
    "#method popitem removes the last element without providing key \n",
    "\n",
    "# delete  removes from memory reference\n",
    "del chai_types[\"green\"]\n",
    "chai_types\n",
    "\n",
    "chai_types.popitem()\n",
    "chai_types"
   ]
  },
  {
   "cell_type": "code",
   "execution_count": 176,
   "metadata": {},
   "outputs": [
    {
     "name": "stdout",
     "output_type": "stream",
     "text": [
      "{'chai': {'masala': 'spicy', 'ginger': 'zesty'}, 'tea': {'green': 'mild', 'black': 'strong'}}\n"
     ]
    },
    {
     "data": {
      "text/plain": [
       "'zesty'"
      ]
     },
     "execution_count": 176,
     "metadata": {},
     "output_type": "execute_result"
    }
   ],
   "source": [
    "# providing dictionary inside dictionary\n",
    "# while doing it you need to provide key.\n",
    "\n",
    "tea_shop = {\n",
    "    'chai':{'masala':'spicy','ginger':'zesty'},\n",
    "    'tea':{'green':'mild','black':'strong'}\n",
    "}\n",
    "\n",
    "print(tea_shop)\n",
    "\n",
    "tea_shop['chai']['ginger']"
   ]
  },
  {
   "cell_type": "code",
   "execution_count": 184,
   "metadata": {},
   "outputs": [
    {
     "name": "stdout",
     "output_type": "stream",
     "text": [
      "{}\n"
     ]
    },
    {
     "data": {
      "text/plain": [
       "{'masala': 'delicious', 'ginger': 'delicious', 'lemon': 'delicious'}"
      ]
     },
     "execution_count": 184,
     "metadata": {},
     "output_type": "execute_result"
    }
   ],
   "source": [
    "square_num = { x: x**2 for x in range(1,11)}\n",
    "\n",
    "square_num.clear()\n",
    "print(square_num)\n",
    "\n",
    "keys = ['masala','ginger','lemon']\n",
    "default_value =\"delicious\"\n",
    "\n",
    "new_dict = dict.fromkeys(keys,default_value)\n",
    "new_dict"
   ]
  }
 ],
 "metadata": {
  "kernelspec": {
   "display_name": "Python 3",
   "language": "python",
   "name": "python3"
  },
  "language_info": {
   "codemirror_mode": {
    "name": "ipython",
    "version": 3
   },
   "file_extension": ".py",
   "mimetype": "text/x-python",
   "name": "python",
   "nbconvert_exporter": "python",
   "pygments_lexer": "ipython3",
   "version": "3.12.2"
  }
 },
 "nbformat": 4,
 "nbformat_minor": 2
}
